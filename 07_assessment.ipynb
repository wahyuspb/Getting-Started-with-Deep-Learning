{
 "cells": [
  {
   "cell_type": "markdown",
   "metadata": {},
   "source": [
    "<img src=\"./images/DLI_Header.png\" style=\"width: 400px;\">"
   ]
  },
  {
   "cell_type": "markdown",
   "metadata": {},
   "source": [
    "# Assessment"
   ]
  },
  {
   "cell_type": "markdown",
   "metadata": {},
   "source": [
    "Congratulations on going through today's course! Hopefully, you've learned some valuable skills along the way and had fun doing it. Now it's time to put those skills to the test. In this assessment, you will train a new model that is able to recognize fresh and rotten fruit. You will need to get the model to a validation accuracy of `92%` in order to pass the assessment, though we challenge you to do even better if you can. You will have the use the skills that you learned in the previous exercises. Specifically, we suggest using some combination of transfer learning, data augmentation, and fine tuning. Once you have trained the model to be at least 92% accurate on the validation dataset, save your model, and then assess its accuracy. Let's get started! "
   ]
  },
  {
   "cell_type": "markdown",
   "metadata": {},
   "source": [
    "## The Dataset"
   ]
  },
  {
   "cell_type": "markdown",
   "metadata": {},
   "source": [
    "In this exercise, you will train a model to recognize fresh and rotten fruits. The dataset comes from [Kaggle](https://www.kaggle.com/sriramr/fruits-fresh-and-rotten-for-classification), a great place to go if you're interested in starting a project after this class. The dataset structure is in the `data/fruits` folder. There are 6 categories of fruits: fresh apples, fresh oranges, fresh bananas, rotten apples, rotten oranges, and rotten bananas. This will mean that your model will require an output layer of 6 neurons to do the categorization successfully. You'll also need to compile the model with `categorical_crossentropy`, as we have more than two categories."
   ]
  },
  {
   "cell_type": "markdown",
   "metadata": {},
   "source": [
    "<img src=\"./images/fruits.png\" style=\"width: 600px;\">"
   ]
  },
  {
   "cell_type": "markdown",
   "metadata": {},
   "source": [
    "## Load ImageNet Base Model"
   ]
  },
  {
   "cell_type": "markdown",
   "metadata": {},
   "source": [
    "We encourage you to start with a model pretrained on ImageNet. Load the model with the correct weights, set an input shape, and choose to remove the last layers of the model. Remember that images have three dimensions: a height, and width, and a number of channels. Because these pictures are in color, there will be three channels for red, green, and blue. We've filled in the input shape for you. This cannot be changed or the assessment will fail. If you need a reference for setting up the pretrained model, please take a look at [notebook 05b](05b_presidential_doggy_door.ipynb) where we implemented transfer learning."
   ]
  },
  {
   "cell_type": "code",
   "execution_count": 1,
   "metadata": {},
   "outputs": [],
   "source": [
    "from tensorflow import keras\n",
    "\n",
    "base_model = keras.applications.VGG16(\n",
    "    weights='imagenet',\n",
    "    input_shape=(224, 224, 3),\n",
    "    include_top=False)"
   ]
  },
  {
   "cell_type": "markdown",
   "metadata": {},
   "source": [
    "## Freeze Base Model"
   ]
  },
  {
   "cell_type": "markdown",
   "metadata": {},
   "source": [
    "Next, we suggest freezing the base model, as done in [notebook 05b](05b_presidential_doggy_door.ipynb). This is done so that all the learning from the ImageNet dataset does not get destroyed in the initial training."
   ]
  },
  {
   "cell_type": "code",
   "execution_count": 2,
   "metadata": {},
   "outputs": [],
   "source": [
    "# Freeze base model\n",
    "base_model.trainable = False"
   ]
  },
  {
   "cell_type": "markdown",
   "metadata": {},
   "source": [
    "## Add Layers to Model"
   ]
  },
  {
   "cell_type": "raw",
   "metadata": {},
   "source": [
    "Now it's time to add layers to the pretrained model. [Notebook 05b](05b_presidential_doggy_door.ipynb) can be used as a guide. Pay close attention to the last dense layer and make sure it has the correct number of neurons to classify the different types of fruit."
   ]
  },
  {
   "cell_type": "code",
   "execution_count": 3,
   "metadata": {},
   "outputs": [],
   "source": [
    "# Create inputs with correct shape\n",
    "inputs = keras.Input(shape=(224, 224, 3))\n",
    "\n",
    "x = base_model(inputs, training=False)\n",
    "\n",
    "# Add pooling layer or flatten layer\n",
    "x = keras.layers.GlobalAveragePooling2D()(x)\n",
    "\n",
    "# Add final dense layer\n",
    "outputs = keras.layers.Dense(6, activation = 'softmax')(x)\n",
    "\n",
    "# Combine inputs and outputs to create model\n",
    "model = keras.Model(inputs, outputs)"
   ]
  },
  {
   "cell_type": "code",
   "execution_count": 4,
   "metadata": {},
   "outputs": [
    {
     "name": "stdout",
     "output_type": "stream",
     "text": [
      "Model: \"model\"\n",
      "_________________________________________________________________\n",
      "Layer (type)                 Output Shape              Param #   \n",
      "=================================================================\n",
      "input_2 (InputLayer)         [(None, 224, 224, 3)]     0         \n",
      "_________________________________________________________________\n",
      "vgg16 (Model)                (None, 7, 7, 512)         14714688  \n",
      "_________________________________________________________________\n",
      "global_average_pooling2d (Gl (None, 512)               0         \n",
      "_________________________________________________________________\n",
      "dense (Dense)                (None, 6)                 3078      \n",
      "=================================================================\n",
      "Total params: 14,717,766\n",
      "Trainable params: 3,078\n",
      "Non-trainable params: 14,714,688\n",
      "_________________________________________________________________\n"
     ]
    }
   ],
   "source": [
    "model.summary()"
   ]
  },
  {
   "cell_type": "markdown",
   "metadata": {},
   "source": [
    "## Compile Model"
   ]
  },
  {
   "cell_type": "markdown",
   "metadata": {},
   "source": [
    "Now it's time to compile the model with loss and metrics options. Remember that we're training on a number of different categories, rather than a binary classification problem."
   ]
  },
  {
   "cell_type": "code",
   "execution_count": 5,
   "metadata": {},
   "outputs": [],
   "source": [
    "model.compile(loss = keras.losses.BinaryCrossentropy(from_logits=True) , metrics = [keras.metrics.BinaryAccuracy()])"
   ]
  },
  {
   "cell_type": "markdown",
   "metadata": {},
   "source": [
    "## Augment the Data"
   ]
  },
  {
   "cell_type": "markdown",
   "metadata": {},
   "source": [
    "If you'd like, try to augment the data to improve the dataset. Feel free to look at [notebook 04a](04a_asl_augmentation.ipynb) and [notebook 05b](05b_presidential_doggy_door.ipynb) for augmentation examples. There is also documentation for the [Keras ImageDataGenerator class](https://keras.io/api/preprocessing/image/#imagedatagenerator-class). This step is optional, but it may be helpful to get to 92% accuracy."
   ]
  },
  {
   "cell_type": "code",
   "execution_count": 6,
   "metadata": {},
   "outputs": [],
   "source": [
    "from tensorflow.keras.preprocessing.image import ImageDataGenerator\n",
    "\n",
    "datagen = ImageDataGenerator(\n",
    "    rotation_range=10,\n",
    "    zoom_range=0.1,\n",
    "    width_shift_range=0.1,\n",
    "    height_shift_range=0.1,\n",
    "    horizontal_flip=True,\n",
    "    vertical_flip=False,\n",
    "    samplewise_center=True    \n",
    ")"
   ]
  },
  {
   "cell_type": "markdown",
   "metadata": {},
   "source": [
    "## Load Dataset"
   ]
  },
  {
   "cell_type": "markdown",
   "metadata": {},
   "source": [
    "Now it's time to load the train and validation datasets. Pick the right folders, as well as the right `target_size` of the images (it needs to match the height and width input of the model you've created). If you'd like a reference, you can check out [notebook 05b](05b_presidential_doggy_door.ipynb)."
   ]
  },
  {
   "cell_type": "code",
   "execution_count": 7,
   "metadata": {},
   "outputs": [
    {
     "name": "stdout",
     "output_type": "stream",
     "text": [
      "Found 1182 images belonging to 6 classes.\n",
      "Found 329 images belonging to 6 classes.\n"
     ]
    }
   ],
   "source": [
    "# load and iterate training dataset\n",
    "train_it = datagen.flow_from_directory('data/fruits/train', \n",
    "                                       target_size=(224, 224), \n",
    "                                       color_mode='rgb', \n",
    "                                       class_mode=\"categorical\")\n",
    "# load and iterate validation dataset\n",
    "valid_it = datagen.flow_from_directory('data/fruits/valid', \n",
    "                                      target_size=(224, 224), \n",
    "                                      color_mode='rgb', \n",
    "                                      class_mode=\"categorical\")"
   ]
  },
  {
   "cell_type": "markdown",
   "metadata": {},
   "source": [
    "## Train the Model"
   ]
  },
  {
   "cell_type": "markdown",
   "metadata": {},
   "source": [
    "Time to train the model! Pass the `train` and `valid` iterators into the `fit` function, as well as setting your desired number of epochs."
   ]
  },
  {
   "cell_type": "code",
   "execution_count": 8,
   "metadata": {},
   "outputs": [
    {
     "name": "stdout",
     "output_type": "stream",
     "text": [
      "Epoch 1/30\n",
      "37/36 [==============================] - 29s 797ms/step - loss: 0.7229 - binary_accuracy: 0.8154 - val_loss: 0.6875 - val_binary_accuracy: 0.8891\n",
      "Epoch 2/30\n",
      "37/36 [==============================] - 19s 514ms/step - loss: 0.6804 - binary_accuracy: 0.9023 - val_loss: 0.6709 - val_binary_accuracy: 0.9179\n",
      "Epoch 3/30\n",
      "37/36 [==============================] - 19s 513ms/step - loss: 0.6694 - binary_accuracy: 0.9215 - val_loss: 0.6646 - val_binary_accuracy: 0.9336\n",
      "Epoch 4/30\n",
      "37/36 [==============================] - 19s 519ms/step - loss: 0.6646 - binary_accuracy: 0.9325 - val_loss: 0.6618 - val_binary_accuracy: 0.9397\n",
      "Epoch 5/30\n",
      "37/36 [==============================] - 19s 514ms/step - loss: 0.6609 - binary_accuracy: 0.9394 - val_loss: 0.6629 - val_binary_accuracy: 0.9321\n",
      "Epoch 6/30\n",
      "37/36 [==============================] - 19s 516ms/step - loss: 0.6586 - binary_accuracy: 0.9435 - val_loss: 0.6552 - val_binary_accuracy: 0.9519\n",
      "Epoch 7/30\n",
      "37/36 [==============================] - 19s 516ms/step - loss: 0.6578 - binary_accuracy: 0.9446 - val_loss: 0.6553 - val_binary_accuracy: 0.9504\n",
      "Epoch 8/30\n",
      "37/36 [==============================] - 19s 515ms/step - loss: 0.6569 - binary_accuracy: 0.9470 - val_loss: 0.6577 - val_binary_accuracy: 0.9458\n",
      "Epoch 9/30\n",
      "37/36 [==============================] - 19s 516ms/step - loss: 0.6559 - binary_accuracy: 0.9495 - val_loss: 0.6561 - val_binary_accuracy: 0.9488\n",
      "Epoch 10/30\n",
      "37/36 [==============================] - 19s 516ms/step - loss: 0.6553 - binary_accuracy: 0.9509 - val_loss: 0.6559 - val_binary_accuracy: 0.9488\n",
      "Epoch 11/30\n",
      "37/36 [==============================] - 19s 510ms/step - loss: 0.6550 - binary_accuracy: 0.9502 - val_loss: 0.6556 - val_binary_accuracy: 0.9498\n",
      "Epoch 12/30\n",
      "37/36 [==============================] - 19s 515ms/step - loss: 0.6550 - binary_accuracy: 0.9509 - val_loss: 0.6558 - val_binary_accuracy: 0.9493\n",
      "Epoch 13/30\n",
      "37/36 [==============================] - 19s 518ms/step - loss: 0.6546 - binary_accuracy: 0.9514 - val_loss: 0.6544 - val_binary_accuracy: 0.9514\n",
      "Epoch 14/30\n",
      "37/36 [==============================] - 19s 515ms/step - loss: 0.6542 - binary_accuracy: 0.9522 - val_loss: 0.6530 - val_binary_accuracy: 0.9544\n",
      "Epoch 15/30\n",
      "37/36 [==============================] - 19s 513ms/step - loss: 0.6540 - binary_accuracy: 0.9528 - val_loss: 0.6521 - val_binary_accuracy: 0.9564\n",
      "Epoch 16/30\n",
      "37/36 [==============================] - 19s 514ms/step - loss: 0.6541 - binary_accuracy: 0.9521 - val_loss: 0.6559 - val_binary_accuracy: 0.9453\n",
      "Epoch 17/30\n",
      "37/36 [==============================] - 19s 515ms/step - loss: 0.6538 - binary_accuracy: 0.9529 - val_loss: 0.6559 - val_binary_accuracy: 0.9493\n",
      "Epoch 18/30\n",
      "37/36 [==============================] - 19s 514ms/step - loss: 0.6536 - binary_accuracy: 0.9529 - val_loss: 0.6530 - val_binary_accuracy: 0.9544\n",
      "Epoch 19/30\n",
      "37/36 [==============================] - 19s 513ms/step - loss: 0.6533 - binary_accuracy: 0.9540 - val_loss: 0.6513 - val_binary_accuracy: 0.9585\n",
      "Epoch 20/30\n",
      "37/36 [==============================] - 19s 515ms/step - loss: 0.6535 - binary_accuracy: 0.9530 - val_loss: 0.6550 - val_binary_accuracy: 0.9509\n",
      "Epoch 21/30\n",
      "37/36 [==============================] - 19s 516ms/step - loss: 0.6535 - binary_accuracy: 0.9532 - val_loss: 0.6534 - val_binary_accuracy: 0.9554\n",
      "Epoch 22/30\n",
      "37/36 [==============================] - 19s 505ms/step - loss: 0.6534 - binary_accuracy: 0.9539 - val_loss: 0.6528 - val_binary_accuracy: 0.9554\n",
      "Epoch 23/30\n",
      "37/36 [==============================] - 19s 520ms/step - loss: 0.6530 - binary_accuracy: 0.9543 - val_loss: 0.6533 - val_binary_accuracy: 0.9529\n",
      "Epoch 24/30\n",
      "37/36 [==============================] - 19s 515ms/step - loss: 0.6530 - binary_accuracy: 0.9543 - val_loss: 0.6534 - val_binary_accuracy: 0.9539\n",
      "Epoch 25/30\n",
      "37/36 [==============================] - 19s 515ms/step - loss: 0.6534 - binary_accuracy: 0.9540 - val_loss: 0.6524 - val_binary_accuracy: 0.9559\n",
      "Epoch 26/30\n",
      "37/36 [==============================] - 19s 514ms/step - loss: 0.6530 - binary_accuracy: 0.9539 - val_loss: 0.6536 - val_binary_accuracy: 0.9529\n",
      "Epoch 27/30\n",
      "37/36 [==============================] - 19s 511ms/step - loss: 0.6529 - binary_accuracy: 0.9538 - val_loss: 0.6554 - val_binary_accuracy: 0.9498\n",
      "Epoch 28/30\n",
      "37/36 [==============================] - 19s 511ms/step - loss: 0.6528 - binary_accuracy: 0.9543 - val_loss: 0.6508 - val_binary_accuracy: 0.9590\n",
      "Epoch 29/30\n",
      "37/36 [==============================] - 19s 514ms/step - loss: 0.6529 - binary_accuracy: 0.9536 - val_loss: 0.6557 - val_binary_accuracy: 0.9493\n",
      "Epoch 30/30\n",
      "37/36 [==============================] - 19s 522ms/step - loss: 0.6531 - binary_accuracy: 0.9546 - val_loss: 0.6557 - val_binary_accuracy: 0.9483\n"
     ]
    },
    {
     "data": {
      "text/plain": [
       "<tensorflow.python.keras.callbacks.History at 0x7f7c883f7080>"
      ]
     },
     "execution_count": 8,
     "metadata": {},
     "output_type": "execute_result"
    }
   ],
   "source": [
    "model.fit(train_it,\n",
    "          validation_data=valid_it,\n",
    "          steps_per_epoch=train_it.samples/train_it.batch_size,\n",
    "          validation_steps=valid_it.samples/valid_it.batch_size,\n",
    "          epochs=30)"
   ]
  },
  {
   "cell_type": "markdown",
   "metadata": {},
   "source": [
    "## Unfreeze Model for Fine Tuning"
   ]
  },
  {
   "cell_type": "markdown",
   "metadata": {},
   "source": [
    "If you have reached 92% validation accuracy already, this next step is optional. If not, we suggest fine tuning the model with a very low learning rate."
   ]
  },
  {
   "cell_type": "code",
   "execution_count": 10,
   "metadata": {},
   "outputs": [],
   "source": [
    "# Unfreeze the base model\n",
    "base_model.trainable = True\n",
    "\n",
    "# Compile the model with a low learning rate\n",
    "model.compile(optimizer=keras.optimizers.RMSprop(learning_rate = 0.00001),\n",
    "              loss = keras.losses.BinaryCrossentropy(from_logits=True) , metrics = [keras.metrics.BinaryAccuracy()])"
   ]
  },
  {
   "cell_type": "code",
   "execution_count": 12,
   "metadata": {},
   "outputs": [
    {
     "name": "stdout",
     "output_type": "stream",
     "text": [
      "Epoch 1/15\n",
      "37/36 [==============================] - 31s 838ms/step - loss: 0.6553 - binary_accuracy: 0.9494 - val_loss: 0.6517 - val_binary_accuracy: 0.9554\n",
      "Epoch 2/15\n",
      "37/36 [==============================] - 23s 615ms/step - loss: 0.6547 - binary_accuracy: 0.9508 - val_loss: 0.6515 - val_binary_accuracy: 0.9569\n",
      "Epoch 3/15\n",
      "37/36 [==============================] - 20s 541ms/step - loss: 0.6532 - binary_accuracy: 0.9526 - val_loss: 0.6523 - val_binary_accuracy: 0.9549\n",
      "Epoch 4/15\n",
      "37/36 [==============================] - 21s 557ms/step - loss: 0.6535 - binary_accuracy: 0.9529 - val_loss: 0.6527 - val_binary_accuracy: 0.9559\n",
      "Epoch 5/15\n",
      "37/36 [==============================] - 21s 558ms/step - loss: 0.6532 - binary_accuracy: 0.9540 - val_loss: 0.6527 - val_binary_accuracy: 0.9544\n",
      "Epoch 6/15\n",
      "37/36 [==============================] - 21s 568ms/step - loss: 0.6521 - binary_accuracy: 0.9571 - val_loss: 0.6523 - val_binary_accuracy: 0.9574\n",
      "Epoch 7/15\n",
      "37/36 [==============================] - 21s 565ms/step - loss: 0.6530 - binary_accuracy: 0.9553 - val_loss: 0.6532 - val_binary_accuracy: 0.9534\n",
      "Epoch 8/15\n",
      "37/36 [==============================] - 21s 578ms/step - loss: 0.6518 - binary_accuracy: 0.9585 - val_loss: 0.6533 - val_binary_accuracy: 0.9539\n",
      "Epoch 9/15\n",
      "37/36 [==============================] - 21s 577ms/step - loss: 0.6524 - binary_accuracy: 0.9571 - val_loss: 0.6475 - val_binary_accuracy: 0.9666\n",
      "Epoch 10/15\n",
      "37/36 [==============================] - 21s 578ms/step - loss: 0.6526 - binary_accuracy: 0.9578 - val_loss: 0.6558 - val_binary_accuracy: 0.9519\n",
      "Epoch 11/15\n",
      "37/36 [==============================] - 21s 576ms/step - loss: 0.6515 - binary_accuracy: 0.9602 - val_loss: 0.6515 - val_binary_accuracy: 0.9610\n",
      "Epoch 12/15\n",
      "37/36 [==============================] - 22s 583ms/step - loss: 0.6519 - binary_accuracy: 0.9619 - val_loss: 0.6560 - val_binary_accuracy: 0.9493\n",
      "Epoch 13/15\n",
      "37/36 [==============================] - 22s 585ms/step - loss: 0.6516 - binary_accuracy: 0.9649 - val_loss: 0.6533 - val_binary_accuracy: 0.9590\n",
      "Epoch 14/15\n",
      "37/36 [==============================] - 21s 569ms/step - loss: 0.6454 - binary_accuracy: 0.9773 - val_loss: 0.6364 - val_binary_accuracy: 0.9889\n",
      "Epoch 15/15\n",
      "37/36 [==============================] - 22s 582ms/step - loss: 0.6312 - binary_accuracy: 0.9983 - val_loss: 0.6343 - val_binary_accuracy: 0.9919\n"
     ]
    },
    {
     "data": {
      "text/plain": [
       "<tensorflow.python.keras.callbacks.History at 0x7f7be0595898>"
      ]
     },
     "execution_count": 12,
     "metadata": {},
     "output_type": "execute_result"
    }
   ],
   "source": [
    "model.fit(train_it,\n",
    "          validation_data=valid_it,\n",
    "          steps_per_epoch=train_it.samples/train_it.batch_size,\n",
    "          validation_steps=valid_it.samples/valid_it.batch_size,\n",
    "          epochs=15)"
   ]
  },
  {
   "cell_type": "markdown",
   "metadata": {},
   "source": [
    "## Evaluate the Model"
   ]
  },
  {
   "cell_type": "markdown",
   "metadata": {},
   "source": [
    "Hopefully, you now have a model that has a validation accuracy of 92% or higher. If not, you may want to go back and either run more epochs of training, or adjust your data augmentation. \n",
    "\n",
    "Once you are satisfied with the validation accuracy, evaluate the model by executing the following cell. The evaluate function will return a tuple, where the first value is your loss, and the second value is your accuracy. To pass, the model will need have an accuracy value of `92% or higher`. "
   ]
  },
  {
   "cell_type": "code",
   "execution_count": 13,
   "metadata": {},
   "outputs": [
    {
     "name": "stdout",
     "output_type": "stream",
     "text": [
      "11/10 [================================] - 4s 335ms/step - loss: 0.6340 - binary_accuracy: 0.9914\n"
     ]
    },
    {
     "data": {
      "text/plain": [
       "[0.633991003036499, 0.9913880825042725]"
      ]
     },
     "execution_count": 13,
     "metadata": {},
     "output_type": "execute_result"
    }
   ],
   "source": [
    "model.evaluate(valid_it, steps=valid_it.samples/valid_it.batch_size)"
   ]
  },
  {
   "cell_type": "markdown",
   "metadata": {},
   "source": [
    "## Run the Assessment"
   ]
  },
  {
   "cell_type": "markdown",
   "metadata": {},
   "source": [
    "To assess your model run the following two cells.\n",
    "\n",
    "**NOTE:** `run_assessment` assumes your model is named `model` and your validation data iterator is called `valid_it`. If for any reason you have modified these variable names, please update the names of the arguments passed to `run_assessment`."
   ]
  },
  {
   "cell_type": "code",
   "execution_count": 14,
   "metadata": {},
   "outputs": [],
   "source": [
    "from run_assessment import run_assessment"
   ]
  },
  {
   "cell_type": "code",
   "execution_count": 15,
   "metadata": {},
   "outputs": [
    {
     "name": "stdout",
     "output_type": "stream",
     "text": [
      "Evaluating model 5 times to obtain average accuracy...\n",
      "\n",
      "11/10 [================================] - 4s 334ms/step - loss: 0.6350 - binary_accuracy: 0.9899\n",
      "11/10 [================================] - 4s 338ms/step - loss: 0.6345 - binary_accuracy: 0.9909\n",
      "11/10 [================================] - 4s 334ms/step - loss: 0.6337 - binary_accuracy: 0.9929\n",
      "11/10 [================================] - 4s 339ms/step - loss: 0.6339 - binary_accuracy: 0.9939\n",
      "11/10 [================================] - 4s 336ms/step - loss: 0.6341 - binary_accuracy: 0.9919\n",
      "\n",
      "Accuracy required to pass the assessment is 0.92 or greater.\n",
      "Your average accuracy is 0.9919.\n",
      "\n",
      "Congratulations! You passed the assessment!\n",
      "See instructions below to generate a certificate.\n"
     ]
    }
   ],
   "source": [
    "run_assessment(model, valid_it)"
   ]
  },
  {
   "cell_type": "markdown",
   "metadata": {},
   "source": [
    "## Generate a Certificate"
   ]
  },
  {
   "cell_type": "markdown",
   "metadata": {},
   "source": [
    "If you passed the assessment, please return to the course page (shown below) and click the \"ASSESS TASK\" button, which will generate your certificate for the course."
   ]
  },
  {
   "cell_type": "markdown",
   "metadata": {},
   "source": [
    "<img src=\"./images/assess_task.png\" style=\"width: 800px;\">"
   ]
  }
 ],
 "metadata": {
  "kernelspec": {
   "display_name": "Python 3",
   "language": "python",
   "name": "python3"
  },
  "language_info": {
   "codemirror_mode": {
    "name": "ipython",
    "version": 3
   },
   "file_extension": ".py",
   "mimetype": "text/x-python",
   "name": "python",
   "nbconvert_exporter": "python",
   "pygments_lexer": "ipython3",
   "version": "3.6.9"
  }
 },
 "nbformat": 4,
 "nbformat_minor": 4
}
